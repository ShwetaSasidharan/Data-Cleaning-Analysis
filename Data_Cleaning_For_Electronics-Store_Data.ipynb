{
 "cells": [
  {
   "cell_type": "markdown",
   "metadata": {},
   "source": [
    "# <h2><center><strong style=\"color:#ff6161\"> Data Cleaning </center></strong></h3>\n",
    " \n",
    "    \n",
    "<p> Environment: Python 3.7.4 and Jupyter notebook  </strong> "
   ]
  },
  {
   "cell_type": "markdown",
   "metadata": {},
   "source": [
    "### Importing the Libraries "
   ]
  },
  {
   "cell_type": "code",
   "execution_count": 50,
   "metadata": {},
   "outputs": [],
   "source": [
    "#initializing packages\n",
    "import pandas as pd\n",
    "import datetime\n",
    "import math\n",
    "from ast import literal_eval\n",
    "import numpy as np\n",
    "from numpy import linalg\n",
    "from nltk.sentiment.vader import SentimentIntensityAnalyzer\n",
    "from sklearn.linear_model import LinearRegression\n",
    "from sklearn.model_selection import train_test_split\n",
    "import matplotlib.pyplot as plt\n",
    "import seaborn as sns"
   ]
  },
  {
   "cell_type": "code",
   "execution_count": 51,
   "metadata": {},
   "outputs": [],
   "source": [
    "#initializing variables\n",
    "price_dict = {}\n",
    "predicted_delivery_charge = []\n",
    "outlier = []\n",
    "predicted_outlier_df = pd.DataFrame()\n",
    "\n",
    "# Based on the season's data \n",
    "Spring = ['September', 'October', 'November']\n",
    "Summer = ['December', 'January', 'February']\n",
    "Autumn = ['March', 'April', 'May']\n",
    "Winter = ['June', 'July', 'August']\n",
    "\n",
    "# Warehouse dictionary for the location co-ordinates\n",
    "\n",
    "warehouse_dict = {'Nickolson' : [-37.818595,\t144.969551],\n",
    "                  'Thompson' : [-37.8126732,\t144.9470689],\n",
    "                  'Bakers' : [-37.8099961, 144.995232],\n",
    "                  }\n",
    "\n",
    "# Instantiate the Linear Regression Model\n",
    "lm_for_Winter = LinearRegression() #instatiate\n",
    "lm_for_Summer = LinearRegression()\n",
    "lm_for_Autumn = LinearRegression()\n",
    "lm_for_Spring = LinearRegression()"
   ]
  },
  {
   "cell_type": "markdown",
   "metadata": {},
   "source": [
    "<h3> Reading Input Files "
   ]
  },
  {
   "cell_type": "code",
   "execution_count": 52,
   "metadata": {},
   "outputs": [],
   "source": [
    "#Reading dirty_data.csv file\n",
    "dirty_df = pd.read_csv('31224075_dirty_data.csv')\n",
    "\n",
    "#Reading missing_data.csv file\n",
    "missing_df = pd.read_csv('31224075_missing_data.csv')\n",
    "\n",
    "#Reading the outliers file\n",
    "outlier_df = pd.read_csv('31224075_outlier_data.csv')\n",
    "\n",
    "index = []"
   ]
  },
  {
   "cell_type": "markdown",
   "metadata": {},
   "source": [
    "<h3> Statistical analysis for the data"
   ]
  },
  {
   "cell_type": "code",
   "execution_count": 53,
   "metadata": {},
   "outputs": [
    {
     "data": {
      "text/html": [
       "<div>\n",
       "<style scoped>\n",
       "    .dataframe tbody tr th:only-of-type {\n",
       "        vertical-align: middle;\n",
       "    }\n",
       "\n",
       "    .dataframe tbody tr th {\n",
       "        vertical-align: top;\n",
       "    }\n",
       "\n",
       "    .dataframe thead th {\n",
       "        text-align: right;\n",
       "    }\n",
       "</style>\n",
       "<table border=\"1\" class=\"dataframe\">\n",
       "  <thead>\n",
       "    <tr style=\"text-align: right;\">\n",
       "      <th></th>\n",
       "      <th>order_id</th>\n",
       "      <th>customer_id</th>\n",
       "      <th>date</th>\n",
       "      <th>nearest_warehouse</th>\n",
       "      <th>shopping_cart</th>\n",
       "      <th>order_price</th>\n",
       "      <th>delivery_charges</th>\n",
       "      <th>customer_lat</th>\n",
       "      <th>customer_long</th>\n",
       "      <th>coupon_discount</th>\n",
       "      <th>order_total</th>\n",
       "      <th>season</th>\n",
       "      <th>is_expedited_delivery</th>\n",
       "      <th>distance_to_nearest_warehouse</th>\n",
       "      <th>latest_customer_review</th>\n",
       "      <th>is_happy_customer</th>\n",
       "    </tr>\n",
       "  </thead>\n",
       "  <tbody>\n",
       "    <tr>\n",
       "      <th>0</th>\n",
       "      <td>ORD372599</td>\n",
       "      <td>ID6167357883</td>\n",
       "      <td>2019-01-11</td>\n",
       "      <td>Nickolson</td>\n",
       "      <td>[('iStream', 2), ('Universe Note', 1), ('Olivi...</td>\n",
       "      <td>8380</td>\n",
       "      <td>72.32</td>\n",
       "      <td>144.973927</td>\n",
       "      <td>-37.812895</td>\n",
       "      <td>0</td>\n",
       "      <td>8452.32</td>\n",
       "      <td>Summer</td>\n",
       "      <td>False</td>\n",
       "      <td>0.7421</td>\n",
       "      <td>so much phone for the money i was impressed th...</td>\n",
       "      <td>True</td>\n",
       "    </tr>\n",
       "    <tr>\n",
       "      <th>1</th>\n",
       "      <td>ORD303368</td>\n",
       "      <td>ID0207085868</td>\n",
       "      <td>2019-11-20</td>\n",
       "      <td>Bakers</td>\n",
       "      <td>[('Toshika 750', 2), ('iStream', 2), ('Olivia ...</td>\n",
       "      <td>11025</td>\n",
       "      <td>80.98</td>\n",
       "      <td>-37.810458</td>\n",
       "      <td>145.011527</td>\n",
       "      <td>15</td>\n",
       "      <td>9452.23</td>\n",
       "      <td>Spring</td>\n",
       "      <td>False</td>\n",
       "      <td>1.4340</td>\n",
       "      <td>five stars just what i wanted - thanks</td>\n",
       "      <td>True</td>\n",
       "    </tr>\n",
       "    <tr>\n",
       "      <th>2</th>\n",
       "      <td>ORD133972</td>\n",
       "      <td>ID2658548178</td>\n",
       "      <td>2019-04-24</td>\n",
       "      <td>Thompson</td>\n",
       "      <td>[('pearTV', 2), ('iAssist Line', 2)]</td>\n",
       "      <td>17070</td>\n",
       "      <td>68.19</td>\n",
       "      <td>-37.803835</td>\n",
       "      <td>144.963002</td>\n",
       "      <td>10</td>\n",
       "      <td>15431.19</td>\n",
       "      <td>Autumn</td>\n",
       "      <td>True</td>\n",
       "      <td>1.7122</td>\n",
       "      <td>still not fixed i love the phone but the scree...</td>\n",
       "      <td>False</td>\n",
       "    </tr>\n",
       "    <tr>\n",
       "      <th>3</th>\n",
       "      <td>ORD329995</td>\n",
       "      <td>ID0370749842</td>\n",
       "      <td>2019-09-18</td>\n",
       "      <td>Bakers</td>\n",
       "      <td>[('pearTV', 1), ('Toshika 750', 1), ('Lucent 3...</td>\n",
       "      <td>15315</td>\n",
       "      <td>87.89</td>\n",
       "      <td>-37.814073</td>\n",
       "      <td>144.985729</td>\n",
       "      <td>0</td>\n",
       "      <td>15402.89</td>\n",
       "      <td>Spring</td>\n",
       "      <td>True</td>\n",
       "      <td>0.9510</td>\n",
       "      <td>received with a bad battery. . i received this...</td>\n",
       "      <td>False</td>\n",
       "    </tr>\n",
       "    <tr>\n",
       "      <th>4</th>\n",
       "      <td>ORD216595</td>\n",
       "      <td>ID1889062696</td>\n",
       "      <td>2019-11-12</td>\n",
       "      <td>Bakers</td>\n",
       "      <td>[('Candle Inferno', 1), ('Olivia x460', 1), ('...</td>\n",
       "      <td>4135</td>\n",
       "      <td>58.65</td>\n",
       "      <td>-37.809613</td>\n",
       "      <td>144.991366</td>\n",
       "      <td>10</td>\n",
       "      <td>3780.15</td>\n",
       "      <td>Spring</td>\n",
       "      <td>False</td>\n",
       "      <td>0.3426</td>\n",
       "      <td>phone was supposed to be factory unlocked, cam...</td>\n",
       "      <td>False</td>\n",
       "    </tr>\n",
       "  </tbody>\n",
       "</table>\n",
       "</div>"
      ],
      "text/plain": [
       "    order_id   customer_id        date nearest_warehouse  \\\n",
       "0  ORD372599  ID6167357883  2019-01-11         Nickolson   \n",
       "1  ORD303368  ID0207085868  2019-11-20            Bakers   \n",
       "2  ORD133972  ID2658548178  2019-04-24          Thompson   \n",
       "3  ORD329995  ID0370749842  2019-09-18            Bakers   \n",
       "4  ORD216595  ID1889062696  2019-11-12            Bakers   \n",
       "\n",
       "                                       shopping_cart  order_price  \\\n",
       "0  [('iStream', 2), ('Universe Note', 1), ('Olivi...         8380   \n",
       "1  [('Toshika 750', 2), ('iStream', 2), ('Olivia ...        11025   \n",
       "2               [('pearTV', 2), ('iAssist Line', 2)]        17070   \n",
       "3  [('pearTV', 1), ('Toshika 750', 1), ('Lucent 3...        15315   \n",
       "4  [('Candle Inferno', 1), ('Olivia x460', 1), ('...         4135   \n",
       "\n",
       "   delivery_charges  customer_lat  customer_long  coupon_discount  \\\n",
       "0             72.32    144.973927     -37.812895                0   \n",
       "1             80.98    -37.810458     145.011527               15   \n",
       "2             68.19    -37.803835     144.963002               10   \n",
       "3             87.89    -37.814073     144.985729                0   \n",
       "4             58.65    -37.809613     144.991366               10   \n",
       "\n",
       "   order_total  season  is_expedited_delivery  distance_to_nearest_warehouse  \\\n",
       "0      8452.32  Summer                  False                         0.7421   \n",
       "1      9452.23  Spring                  False                         1.4340   \n",
       "2     15431.19  Autumn                   True                         1.7122   \n",
       "3     15402.89  Spring                   True                         0.9510   \n",
       "4      3780.15  Spring                  False                         0.3426   \n",
       "\n",
       "                              latest_customer_review  is_happy_customer  \n",
       "0  so much phone for the money i was impressed th...               True  \n",
       "1             five stars just what i wanted - thanks               True  \n",
       "2  still not fixed i love the phone but the scree...              False  \n",
       "3  received with a bad battery. . i received this...              False  \n",
       "4  phone was supposed to be factory unlocked, cam...              False  "
      ]
     },
     "execution_count": 53,
     "metadata": {},
     "output_type": "execute_result"
    }
   ],
   "source": [
    "dirty_df.head()"
   ]
  },
  {
   "cell_type": "code",
   "execution_count": 54,
   "metadata": {},
   "outputs": [
    {
     "name": "stdout",
     "output_type": "stream",
     "text": [
      "Dirty Data Shape :  (500, 16) \n",
      "\n",
      "Index(['order_id', 'customer_id', 'date', 'nearest_warehouse', 'shopping_cart',\n",
      "       'order_price', 'delivery_charges', 'customer_lat', 'customer_long',\n",
      "       'coupon_discount', 'order_total', 'season', 'is_expedited_delivery',\n",
      "       'distance_to_nearest_warehouse', 'latest_customer_review',\n",
      "       'is_happy_customer'],\n",
      "      dtype='object')\n"
     ]
    }
   ],
   "source": [
    "print(\"Dirty Data Shape : \", dirty_df.shape ,\"\\n\")\n",
    "\n",
    "print(dirty_df.columns)\n"
   ]
  },
  {
   "cell_type": "markdown",
   "metadata": {},
   "source": [
    "<h4>The data has 500 rows and 16 columns"
   ]
  },
  {
   "cell_type": "code",
   "execution_count": 55,
   "metadata": {},
   "outputs": [
    {
     "name": "stdout",
     "output_type": "stream",
     "text": [
      "<class 'pandas.core.frame.DataFrame'>\n",
      "RangeIndex: 500 entries, 0 to 499\n",
      "Data columns (total 16 columns):\n",
      " #   Column                         Non-Null Count  Dtype  \n",
      "---  ------                         --------------  -----  \n",
      " 0   order_id                       500 non-null    object \n",
      " 1   customer_id                    500 non-null    object \n",
      " 2   date                           500 non-null    object \n",
      " 3   nearest_warehouse              500 non-null    object \n",
      " 4   shopping_cart                  500 non-null    object \n",
      " 5   order_price                    500 non-null    int64  \n",
      " 6   delivery_charges               500 non-null    float64\n",
      " 7   customer_lat                   500 non-null    float64\n",
      " 8   customer_long                  500 non-null    float64\n",
      " 9   coupon_discount                500 non-null    int64  \n",
      " 10  order_total                    500 non-null    float64\n",
      " 11  season                         500 non-null    object \n",
      " 12  is_expedited_delivery          500 non-null    bool   \n",
      " 13  distance_to_nearest_warehouse  500 non-null    float64\n",
      " 14  latest_customer_review         500 non-null    object \n",
      " 15  is_happy_customer              500 non-null    bool   \n",
      "dtypes: bool(2), float64(5), int64(2), object(7)\n",
      "memory usage: 55.8+ KB\n",
      "None\n"
     ]
    }
   ],
   "source": [
    "print(dirty_df.info())"
   ]
  },
  {
   "cell_type": "code",
   "execution_count": 56,
   "metadata": {},
   "outputs": [],
   "source": [
    "#As seen here in the data frame the Int for order_price needs to be converted to Float \n",
    "\n",
    "#Converting the order_price column to float to match the schema\n",
    "dirty_df['order_price'] =dirty_df['order_price'].astype(float)\n"
   ]
  },
  {
   "cell_type": "code",
   "execution_count": 57,
   "metadata": {},
   "outputs": [
    {
     "data": {
      "text/html": [
       "<div>\n",
       "<style scoped>\n",
       "    .dataframe tbody tr th:only-of-type {\n",
       "        vertical-align: middle;\n",
       "    }\n",
       "\n",
       "    .dataframe tbody tr th {\n",
       "        vertical-align: top;\n",
       "    }\n",
       "\n",
       "    .dataframe thead th {\n",
       "        text-align: right;\n",
       "    }\n",
       "</style>\n",
       "<table border=\"1\" class=\"dataframe\">\n",
       "  <thead>\n",
       "    <tr style=\"text-align: right;\">\n",
       "      <th></th>\n",
       "      <th>order_id</th>\n",
       "      <th>customer_id</th>\n",
       "      <th>date</th>\n",
       "      <th>nearest_warehouse</th>\n",
       "      <th>shopping_cart</th>\n",
       "      <th>season</th>\n",
       "      <th>is_expedited_delivery</th>\n",
       "      <th>latest_customer_review</th>\n",
       "      <th>is_happy_customer</th>\n",
       "    </tr>\n",
       "  </thead>\n",
       "  <tbody>\n",
       "    <tr>\n",
       "      <th>count</th>\n",
       "      <td>500</td>\n",
       "      <td>500</td>\n",
       "      <td>500</td>\n",
       "      <td>500</td>\n",
       "      <td>500</td>\n",
       "      <td>500</td>\n",
       "      <td>500</td>\n",
       "      <td>500</td>\n",
       "      <td>500</td>\n",
       "    </tr>\n",
       "    <tr>\n",
       "      <th>unique</th>\n",
       "      <td>500</td>\n",
       "      <td>488</td>\n",
       "      <td>297</td>\n",
       "      <td>6</td>\n",
       "      <td>455</td>\n",
       "      <td>8</td>\n",
       "      <td>2</td>\n",
       "      <td>500</td>\n",
       "      <td>2</td>\n",
       "    </tr>\n",
       "    <tr>\n",
       "      <th>top</th>\n",
       "      <td>ORD036468</td>\n",
       "      <td>ID2005895269</td>\n",
       "      <td>2019-12-26</td>\n",
       "      <td>Thompson</td>\n",
       "      <td>[('Alcon 10', 2), ('Lucent 330S', 1)]</td>\n",
       "      <td>Winter</td>\n",
       "      <td>True</td>\n",
       "      <td>five stars great refurbished product!!</td>\n",
       "      <td>True</td>\n",
       "    </tr>\n",
       "    <tr>\n",
       "      <th>freq</th>\n",
       "      <td>1</td>\n",
       "      <td>2</td>\n",
       "      <td>5</td>\n",
       "      <td>197</td>\n",
       "      <td>4</td>\n",
       "      <td>123</td>\n",
       "      <td>267</td>\n",
       "      <td>1</td>\n",
       "      <td>372</td>\n",
       "    </tr>\n",
       "  </tbody>\n",
       "</table>\n",
       "</div>"
      ],
      "text/plain": [
       "         order_id   customer_id        date nearest_warehouse  \\\n",
       "count         500           500         500               500   \n",
       "unique        500           488         297                 6   \n",
       "top     ORD036468  ID2005895269  2019-12-26          Thompson   \n",
       "freq            1             2           5               197   \n",
       "\n",
       "                                shopping_cart  season is_expedited_delivery  \\\n",
       "count                                     500     500                   500   \n",
       "unique                                    455       8                     2   \n",
       "top     [('Alcon 10', 2), ('Lucent 330S', 1)]  Winter                  True   \n",
       "freq                                        4     123                   267   \n",
       "\n",
       "                        latest_customer_review is_happy_customer  \n",
       "count                                      500               500  \n",
       "unique                                     500                 2  \n",
       "top     five stars great refurbished product!!              True  \n",
       "freq                                         1               372  "
      ]
     },
     "execution_count": 57,
     "metadata": {},
     "output_type": "execute_result"
    }
   ],
   "source": [
    "#Checking for non numeric columns\n",
    "dirty_df.describe(include=['object', 'bool'])"
   ]
  },
  {
   "cell_type": "markdown",
   "metadata": {},
   "source": [
    "<h4> Here nearest_warehouse has 6 unique keys whereas there can only be 3 different names, So there's a possiblity of misspelling or other Grammar errors."
   ]
  },
  {
   "cell_type": "code",
   "execution_count": 58,
   "metadata": {},
   "outputs": [
    {
     "data": {
      "text/plain": [
       "array(['Nickolson', 'Bakers', 'Thompson', 'thompson', 'bakers',\n",
       "       'nickolson'], dtype=object)"
      ]
     },
     "execution_count": 58,
     "metadata": {},
     "output_type": "execute_result"
    }
   ],
   "source": [
    "dirty_df.nearest_warehouse.unique()"
   ]
  },
  {
   "cell_type": "markdown",
   "metadata": {},
   "source": [
    "<h4> Syntactic Anomalies are found here with some capital and non-capital names."
   ]
  },
  {
   "cell_type": "code",
   "execution_count": 59,
   "metadata": {},
   "outputs": [
    {
     "data": {
      "text/plain": [
       "True     372\n",
       "False    128\n",
       "Name: is_happy_customer, dtype: int64"
      ]
     },
     "execution_count": 59,
     "metadata": {},
     "output_type": "execute_result"
    }
   ],
   "source": [
    "#To check the customer satisfaction \n",
    "dirty_df['is_happy_customer'].value_counts()"
   ]
  },
  {
   "cell_type": "code",
   "execution_count": 60,
   "metadata": {},
   "outputs": [
    {
     "data": {
      "text/html": [
       "<div>\n",
       "<style scoped>\n",
       "    .dataframe tbody tr th:only-of-type {\n",
       "        vertical-align: middle;\n",
       "    }\n",
       "\n",
       "    .dataframe tbody tr th {\n",
       "        vertical-align: top;\n",
       "    }\n",
       "\n",
       "    .dataframe thead th {\n",
       "        text-align: right;\n",
       "    }\n",
       "</style>\n",
       "<table border=\"1\" class=\"dataframe\">\n",
       "  <thead>\n",
       "    <tr style=\"text-align: right;\">\n",
       "      <th></th>\n",
       "      <th>order_price</th>\n",
       "      <th>delivery_charges</th>\n",
       "      <th>customer_lat</th>\n",
       "      <th>customer_long</th>\n",
       "      <th>coupon_discount</th>\n",
       "      <th>order_total</th>\n",
       "      <th>distance_to_nearest_warehouse</th>\n",
       "    </tr>\n",
       "  </thead>\n",
       "  <tbody>\n",
       "    <tr>\n",
       "      <th>count</th>\n",
       "      <td>500.000000</td>\n",
       "      <td>500.000000</td>\n",
       "      <td>500.000000</td>\n",
       "      <td>500.000000</td>\n",
       "      <td>500.000000</td>\n",
       "      <td>500.000000</td>\n",
       "      <td>500.000000</td>\n",
       "    </tr>\n",
       "    <tr>\n",
       "      <th>mean</th>\n",
       "      <td>13815.880000</td>\n",
       "      <td>78.107600</td>\n",
       "      <td>-27.942411</td>\n",
       "      <td>135.096118</td>\n",
       "      <td>10.920000</td>\n",
       "      <td>12213.393720</td>\n",
       "      <td>1.090723</td>\n",
       "    </tr>\n",
       "    <tr>\n",
       "      <th>std</th>\n",
       "      <td>8038.048268</td>\n",
       "      <td>15.116409</td>\n",
       "      <td>41.352891</td>\n",
       "      <td>41.352993</td>\n",
       "      <td>8.602418</td>\n",
       "      <td>7296.763853</td>\n",
       "      <td>0.512969</td>\n",
       "    </tr>\n",
       "    <tr>\n",
       "      <th>min</th>\n",
       "      <td>580.000000</td>\n",
       "      <td>47.060000</td>\n",
       "      <td>-37.826842</td>\n",
       "      <td>-37.831490</td>\n",
       "      <td>0.000000</td>\n",
       "      <td>551.970000</td>\n",
       "      <td>0.093600</td>\n",
       "    </tr>\n",
       "    <tr>\n",
       "      <th>25%</th>\n",
       "      <td>7170.000000</td>\n",
       "      <td>66.302500</td>\n",
       "      <td>-37.818792</td>\n",
       "      <td>144.949491</td>\n",
       "      <td>5.000000</td>\n",
       "      <td>6376.262500</td>\n",
       "      <td>0.725025</td>\n",
       "    </tr>\n",
       "    <tr>\n",
       "      <th>50%</th>\n",
       "      <td>13107.500000</td>\n",
       "      <td>77.840000</td>\n",
       "      <td>-37.812771</td>\n",
       "      <td>144.963028</td>\n",
       "      <td>10.000000</td>\n",
       "      <td>11390.000000</td>\n",
       "      <td>1.023650</td>\n",
       "    </tr>\n",
       "    <tr>\n",
       "      <th>75%</th>\n",
       "      <td>18580.000000</td>\n",
       "      <td>87.845000</td>\n",
       "      <td>-37.804627</td>\n",
       "      <td>144.978368</td>\n",
       "      <td>15.000000</td>\n",
       "      <td>16505.820000</td>\n",
       "      <td>1.418775</td>\n",
       "    </tr>\n",
       "    <tr>\n",
       "      <th>max</th>\n",
       "      <td>41870.000000</td>\n",
       "      <td>112.630000</td>\n",
       "      <td>145.015963</td>\n",
       "      <td>145.020570</td>\n",
       "      <td>25.000000</td>\n",
       "      <td>39848.530000</td>\n",
       "      <td>2.874600</td>\n",
       "    </tr>\n",
       "  </tbody>\n",
       "</table>\n",
       "</div>"
      ],
      "text/plain": [
       "        order_price  delivery_charges  customer_lat  customer_long  \\\n",
       "count    500.000000        500.000000    500.000000     500.000000   \n",
       "mean   13815.880000         78.107600    -27.942411     135.096118   \n",
       "std     8038.048268         15.116409     41.352891      41.352993   \n",
       "min      580.000000         47.060000    -37.826842     -37.831490   \n",
       "25%     7170.000000         66.302500    -37.818792     144.949491   \n",
       "50%    13107.500000         77.840000    -37.812771     144.963028   \n",
       "75%    18580.000000         87.845000    -37.804627     144.978368   \n",
       "max    41870.000000        112.630000    145.015963     145.020570   \n",
       "\n",
       "       coupon_discount   order_total  distance_to_nearest_warehouse  \n",
       "count       500.000000    500.000000                     500.000000  \n",
       "mean         10.920000  12213.393720                       1.090723  \n",
       "std           8.602418   7296.763853                       0.512969  \n",
       "min           0.000000    551.970000                       0.093600  \n",
       "25%           5.000000   6376.262500                       0.725025  \n",
       "50%          10.000000  11390.000000                       1.023650  \n",
       "75%          15.000000  16505.820000                       1.418775  \n",
       "max          25.000000  39848.530000                       2.874600  "
      ]
     },
     "execution_count": 60,
     "metadata": {},
     "output_type": "execute_result"
    }
   ],
   "source": [
    "dirty_df.describe()"
   ]
  },
  {
   "cell_type": "markdown",
   "metadata": {},
   "source": [
    "<h4 >It is known that the numbers are in decimal degrees format and range from -90 to 90 for latitude and -180 to 180 for longitude. </h4>\n",
    "\n",
    "As seen for the customer latitude and longitude data, there seems to be an outlier of max and min range respectively. The data here needs to be looked upon. \n"
   ]
  },
  {
   "cell_type": "markdown",
   "metadata": {},
   "source": [
    "<h3> For Missing Data Analysis"
   ]
  },
  {
   "cell_type": "code",
   "execution_count": 61,
   "metadata": {},
   "outputs": [
    {
     "data": {
      "text/html": [
       "<div>\n",
       "<style scoped>\n",
       "    .dataframe tbody tr th:only-of-type {\n",
       "        vertical-align: middle;\n",
       "    }\n",
       "\n",
       "    .dataframe tbody tr th {\n",
       "        vertical-align: top;\n",
       "    }\n",
       "\n",
       "    .dataframe thead th {\n",
       "        text-align: right;\n",
       "    }\n",
       "</style>\n",
       "<table border=\"1\" class=\"dataframe\">\n",
       "  <thead>\n",
       "    <tr style=\"text-align: right;\">\n",
       "      <th></th>\n",
       "      <th>order_id</th>\n",
       "      <th>customer_id</th>\n",
       "      <th>date</th>\n",
       "      <th>nearest_warehouse</th>\n",
       "      <th>shopping_cart</th>\n",
       "      <th>order_price</th>\n",
       "      <th>delivery_charges</th>\n",
       "      <th>customer_lat</th>\n",
       "      <th>customer_long</th>\n",
       "      <th>coupon_discount</th>\n",
       "      <th>order_total</th>\n",
       "      <th>season</th>\n",
       "      <th>is_expedited_delivery</th>\n",
       "      <th>distance_to_nearest_warehouse</th>\n",
       "      <th>latest_customer_review</th>\n",
       "      <th>is_happy_customer</th>\n",
       "    </tr>\n",
       "  </thead>\n",
       "  <tbody>\n",
       "    <tr>\n",
       "      <th>0</th>\n",
       "      <td>ORD243748</td>\n",
       "      <td>ID0267319466</td>\n",
       "      <td>2019-08-08</td>\n",
       "      <td>NaN</td>\n",
       "      <td>[('Universe Note', 2), ('Candle Inferno', 1)]</td>\n",
       "      <td>7330.0</td>\n",
       "      <td>77.45</td>\n",
       "      <td>-37.826252</td>\n",
       "      <td>144.971522</td>\n",
       "      <td>0</td>\n",
       "      <td>7407.45</td>\n",
       "      <td>Winter</td>\n",
       "      <td>True</td>\n",
       "      <td>NaN</td>\n",
       "      <td>love this candle. it is my fourth candle and i...</td>\n",
       "      <td>1.0</td>\n",
       "    </tr>\n",
       "    <tr>\n",
       "      <th>1</th>\n",
       "      <td>ORD488070</td>\n",
       "      <td>ID1728565028</td>\n",
       "      <td>2019-01-13</td>\n",
       "      <td>Thompson</td>\n",
       "      <td>[('Candle Inferno', 2), ('Toshika 750', 1), ('...</td>\n",
       "      <td>8780.0</td>\n",
       "      <td>77.51</td>\n",
       "      <td>-37.823325</td>\n",
       "      <td>144.953335</td>\n",
       "      <td>0</td>\n",
       "      <td>8857.51</td>\n",
       "      <td>Summer</td>\n",
       "      <td>False</td>\n",
       "      <td>1.3075</td>\n",
       "      <td>a good buy for people looking for just a simpl...</td>\n",
       "      <td>1.0</td>\n",
       "    </tr>\n",
       "    <tr>\n",
       "      <th>2</th>\n",
       "      <td>ORD436776</td>\n",
       "      <td>ID2841675062</td>\n",
       "      <td>2019-12-19</td>\n",
       "      <td>Nickolson</td>\n",
       "      <td>[('iStream', 1), ('Toshika 750', 1)]</td>\n",
       "      <td>NaN</td>\n",
       "      <td>73.90</td>\n",
       "      <td>-37.809687</td>\n",
       "      <td>144.963647</td>\n",
       "      <td>15</td>\n",
       "      <td>NaN</td>\n",
       "      <td>Summer</td>\n",
       "      <td>False</td>\n",
       "      <td>1.1193</td>\n",
       "      <td>bought this for my wife for our anniversary sh...</td>\n",
       "      <td>1.0</td>\n",
       "    </tr>\n",
       "    <tr>\n",
       "      <th>3</th>\n",
       "      <td>ORD053160</td>\n",
       "      <td>ID0635492069</td>\n",
       "      <td>2019-04-27</td>\n",
       "      <td>Thompson</td>\n",
       "      <td>[('Universe Note', 1), ('Thunder line', 1)]</td>\n",
       "      <td>5630.0</td>\n",
       "      <td>63.02</td>\n",
       "      <td>-37.814370</td>\n",
       "      <td>144.939015</td>\n",
       "      <td>25</td>\n",
       "      <td>4285.52</td>\n",
       "      <td>Autumn</td>\n",
       "      <td>True</td>\n",
       "      <td>0.7330</td>\n",
       "      <td>listed as an at&amp;t phone. this is a sprint ... ...</td>\n",
       "      <td>0.0</td>\n",
       "    </tr>\n",
       "    <tr>\n",
       "      <th>4</th>\n",
       "      <td>ORD191125</td>\n",
       "      <td>ID6226313838</td>\n",
       "      <td>2019-02-09</td>\n",
       "      <td>Nickolson</td>\n",
       "      <td>[('iStream', 1), ('Toshika 750', 2)]</td>\n",
       "      <td>8790.0</td>\n",
       "      <td>97.89</td>\n",
       "      <td>-37.818636</td>\n",
       "      <td>144.982767</td>\n",
       "      <td>0</td>\n",
       "      <td>8887.89</td>\n",
       "      <td>Summer</td>\n",
       "      <td>True</td>\n",
       "      <td>1.1621</td>\n",
       "      <td>it's so efficient and amazing!  how cool!  we ...</td>\n",
       "      <td>1.0</td>\n",
       "    </tr>\n",
       "  </tbody>\n",
       "</table>\n",
       "</div>"
      ],
      "text/plain": [
       "    order_id   customer_id        date nearest_warehouse  \\\n",
       "0  ORD243748  ID0267319466  2019-08-08               NaN   \n",
       "1  ORD488070  ID1728565028  2019-01-13          Thompson   \n",
       "2  ORD436776  ID2841675062  2019-12-19         Nickolson   \n",
       "3  ORD053160  ID0635492069  2019-04-27          Thompson   \n",
       "4  ORD191125  ID6226313838  2019-02-09         Nickolson   \n",
       "\n",
       "                                       shopping_cart  order_price  \\\n",
       "0      [('Universe Note', 2), ('Candle Inferno', 1)]       7330.0   \n",
       "1  [('Candle Inferno', 2), ('Toshika 750', 1), ('...       8780.0   \n",
       "2               [('iStream', 1), ('Toshika 750', 1)]          NaN   \n",
       "3        [('Universe Note', 1), ('Thunder line', 1)]       5630.0   \n",
       "4               [('iStream', 1), ('Toshika 750', 2)]       8790.0   \n",
       "\n",
       "   delivery_charges  customer_lat  customer_long  coupon_discount  \\\n",
       "0             77.45    -37.826252     144.971522                0   \n",
       "1             77.51    -37.823325     144.953335                0   \n",
       "2             73.90    -37.809687     144.963647               15   \n",
       "3             63.02    -37.814370     144.939015               25   \n",
       "4             97.89    -37.818636     144.982767                0   \n",
       "\n",
       "   order_total  season  is_expedited_delivery  distance_to_nearest_warehouse  \\\n",
       "0      7407.45  Winter                   True                            NaN   \n",
       "1      8857.51  Summer                  False                         1.3075   \n",
       "2          NaN  Summer                  False                         1.1193   \n",
       "3      4285.52  Autumn                   True                         0.7330   \n",
       "4      8887.89  Summer                   True                         1.1621   \n",
       "\n",
       "                              latest_customer_review  is_happy_customer  \n",
       "0  love this candle. it is my fourth candle and i...                1.0  \n",
       "1  a good buy for people looking for just a simpl...                1.0  \n",
       "2  bought this for my wife for our anniversary sh...                1.0  \n",
       "3  listed as an at&t phone. this is a sprint ... ...                0.0  \n",
       "4  it's so efficient and amazing!  how cool!  we ...                1.0  "
      ]
     },
     "execution_count": 61,
     "metadata": {},
     "output_type": "execute_result"
    }
   ],
   "source": [
    "missing_df.head()"
   ]
  },
  {
   "cell_type": "code",
   "execution_count": 62,
   "metadata": {},
   "outputs": [
    {
     "name": "stdout",
     "output_type": "stream",
     "text": [
      "Missing Data Shape :  (500, 16) \n",
      "\n",
      "Index(['order_id', 'customer_id', 'date', 'nearest_warehouse', 'shopping_cart',\n",
      "       'order_price', 'delivery_charges', 'customer_lat', 'customer_long',\n",
      "       'coupon_discount', 'order_total', 'season', 'is_expedited_delivery',\n",
      "       'distance_to_nearest_warehouse', 'latest_customer_review',\n",
      "       'is_happy_customer'],\n",
      "      dtype='object')\n"
     ]
    }
   ],
   "source": [
    "print(\"Missing Data Shape : \", missing_df.shape ,\"\\n\")\n",
    "\n",
    "print(missing_df.columns)\n"
   ]
  },
  {
   "cell_type": "code",
   "execution_count": 63,
   "metadata": {},
   "outputs": [
    {
     "name": "stdout",
     "output_type": "stream",
     "text": [
      "<class 'pandas.core.frame.DataFrame'>\n",
      "RangeIndex: 500 entries, 0 to 499\n",
      "Data columns (total 16 columns):\n",
      " #   Column                         Non-Null Count  Dtype  \n",
      "---  ------                         --------------  -----  \n",
      " 0   order_id                       500 non-null    object \n",
      " 1   customer_id                    500 non-null    object \n",
      " 2   date                           500 non-null    object \n",
      " 3   nearest_warehouse              445 non-null    object \n",
      " 4   shopping_cart                  500 non-null    object \n",
      " 5   order_price                    485 non-null    float64\n",
      " 6   delivery_charges               460 non-null    float64\n",
      " 7   customer_lat                   500 non-null    float64\n",
      " 8   customer_long                  500 non-null    float64\n",
      " 9   coupon_discount                500 non-null    int64  \n",
      " 10  order_total                    485 non-null    float64\n",
      " 11  season                         500 non-null    object \n",
      " 12  is_expedited_delivery          500 non-null    bool   \n",
      " 13  distance_to_nearest_warehouse  469 non-null    float64\n",
      " 14  latest_customer_review         500 non-null    object \n",
      " 15  is_happy_customer              460 non-null    float64\n",
      "dtypes: bool(1), float64(7), int64(1), object(7)\n",
      "memory usage: 59.2+ KB\n",
      "None\n"
     ]
    }
   ],
   "source": [
    "print(missing_df.info())"
   ]
  },
  {
   "cell_type": "markdown",
   "metadata": {},
   "source": [
    "<h4> As seen of the 500 rows for data. Some columns have less than 500 rows, indicating missing values in them ."
   ]
  },
  {
   "cell_type": "code",
   "execution_count": 64,
   "metadata": {},
   "outputs": [
    {
     "data": {
      "text/plain": [
       "order_id                          0\n",
       "customer_id                       0\n",
       "date                              0\n",
       "nearest_warehouse                55\n",
       "shopping_cart                     0\n",
       "order_price                      15\n",
       "delivery_charges                 40\n",
       "customer_lat                      0\n",
       "customer_long                     0\n",
       "coupon_discount                   0\n",
       "order_total                      15\n",
       "season                            0\n",
       "is_expedited_delivery             0\n",
       "distance_to_nearest_warehouse    31\n",
       "latest_customer_review            0\n",
       "is_happy_customer                40\n",
       "dtype: int64"
      ]
     },
     "execution_count": 64,
     "metadata": {},
     "output_type": "execute_result"
    }
   ],
   "source": [
    "missing_df.isna().sum()"
   ]
  },
  {
   "cell_type": "markdown",
   "metadata": {},
   "source": [
    "<h3> Missing data leads to Coverage Anomalies which can be avoided by finding the cause of missing values or by finding the mean or close approximation to that value in the population."
   ]
  },
  {
   "cell_type": "markdown",
   "metadata": {},
   "source": [
    "<h4> As seen there are misssing records in the columns : nearest_warehouse, delivery_charges, order_price, order_total, distance_to_nearest_warehouse, is_happy_customer. \n"
   ]
  },
  {
   "cell_type": "code",
   "execution_count": 65,
   "metadata": {},
   "outputs": [
    {
     "data": {
      "text/html": [
       "<div>\n",
       "<style scoped>\n",
       "    .dataframe tbody tr th:only-of-type {\n",
       "        vertical-align: middle;\n",
       "    }\n",
       "\n",
       "    .dataframe tbody tr th {\n",
       "        vertical-align: top;\n",
       "    }\n",
       "\n",
       "    .dataframe thead th {\n",
       "        text-align: right;\n",
       "    }\n",
       "</style>\n",
       "<table border=\"1\" class=\"dataframe\">\n",
       "  <thead>\n",
       "    <tr style=\"text-align: right;\">\n",
       "      <th></th>\n",
       "      <th>order_id</th>\n",
       "      <th>customer_id</th>\n",
       "      <th>date</th>\n",
       "      <th>nearest_warehouse</th>\n",
       "      <th>shopping_cart</th>\n",
       "      <th>season</th>\n",
       "      <th>is_expedited_delivery</th>\n",
       "      <th>latest_customer_review</th>\n",
       "    </tr>\n",
       "  </thead>\n",
       "  <tbody>\n",
       "    <tr>\n",
       "      <th>count</th>\n",
       "      <td>500</td>\n",
       "      <td>500</td>\n",
       "      <td>500</td>\n",
       "      <td>445</td>\n",
       "      <td>500</td>\n",
       "      <td>500</td>\n",
       "      <td>500</td>\n",
       "      <td>500</td>\n",
       "    </tr>\n",
       "    <tr>\n",
       "      <th>unique</th>\n",
       "      <td>500</td>\n",
       "      <td>493</td>\n",
       "      <td>268</td>\n",
       "      <td>3</td>\n",
       "      <td>460</td>\n",
       "      <td>4</td>\n",
       "      <td>2</td>\n",
       "      <td>500</td>\n",
       "    </tr>\n",
       "    <tr>\n",
       "      <th>top</th>\n",
       "      <td>ORD219713</td>\n",
       "      <td>ID3106293102</td>\n",
       "      <td>2019-12-19</td>\n",
       "      <td>Thompson</td>\n",
       "      <td>[('Olivia x460', 1), ('Universe Note', 2)]</td>\n",
       "      <td>Summer</td>\n",
       "      <td>False</td>\n",
       "      <td>two stars i don't like this product for the re...</td>\n",
       "    </tr>\n",
       "    <tr>\n",
       "      <th>freq</th>\n",
       "      <td>1</td>\n",
       "      <td>2</td>\n",
       "      <td>6</td>\n",
       "      <td>196</td>\n",
       "      <td>4</td>\n",
       "      <td>132</td>\n",
       "      <td>253</td>\n",
       "      <td>1</td>\n",
       "    </tr>\n",
       "  </tbody>\n",
       "</table>\n",
       "</div>"
      ],
      "text/plain": [
       "         order_id   customer_id        date nearest_warehouse  \\\n",
       "count         500           500         500               445   \n",
       "unique        500           493         268                 3   \n",
       "top     ORD219713  ID3106293102  2019-12-19          Thompson   \n",
       "freq            1             2           6               196   \n",
       "\n",
       "                                     shopping_cart  season  \\\n",
       "count                                          500     500   \n",
       "unique                                         460       4   \n",
       "top     [('Olivia x460', 1), ('Universe Note', 2)]  Summer   \n",
       "freq                                             4     132   \n",
       "\n",
       "       is_expedited_delivery  \\\n",
       "count                    500   \n",
       "unique                     2   \n",
       "top                    False   \n",
       "freq                     253   \n",
       "\n",
       "                                   latest_customer_review  \n",
       "count                                                 500  \n",
       "unique                                                500  \n",
       "top     two stars i don't like this product for the re...  \n",
       "freq                                                    1  "
      ]
     },
     "execution_count": 65,
     "metadata": {},
     "output_type": "execute_result"
    }
   ],
   "source": [
    "#Checking for non-numeric columns\n",
    "missing_df.describe(include=['object', 'bool'])"
   ]
  },
  {
   "cell_type": "code",
   "execution_count": 66,
   "metadata": {},
   "outputs": [
    {
     "data": {
      "text/plain": [
       "1.0    338\n",
       "0.0    122\n",
       "Name: is_happy_customer, dtype: int64"
      ]
     },
     "execution_count": 66,
     "metadata": {},
     "output_type": "execute_result"
    }
   ],
   "source": [
    "#To check the overall customer satisfaction \n",
    "missing_df['is_happy_customer'].value_counts()"
   ]
  },
  {
   "cell_type": "code",
   "execution_count": 67,
   "metadata": {},
   "outputs": [
    {
     "data": {
      "text/html": [
       "<div>\n",
       "<style scoped>\n",
       "    .dataframe tbody tr th:only-of-type {\n",
       "        vertical-align: middle;\n",
       "    }\n",
       "\n",
       "    .dataframe tbody tr th {\n",
       "        vertical-align: top;\n",
       "    }\n",
       "\n",
       "    .dataframe thead th {\n",
       "        text-align: right;\n",
       "    }\n",
       "</style>\n",
       "<table border=\"1\" class=\"dataframe\">\n",
       "  <thead>\n",
       "    <tr style=\"text-align: right;\">\n",
       "      <th></th>\n",
       "      <th>order_price</th>\n",
       "      <th>delivery_charges</th>\n",
       "      <th>customer_lat</th>\n",
       "      <th>customer_long</th>\n",
       "      <th>coupon_discount</th>\n",
       "      <th>order_total</th>\n",
       "      <th>distance_to_nearest_warehouse</th>\n",
       "      <th>is_happy_customer</th>\n",
       "    </tr>\n",
       "  </thead>\n",
       "  <tbody>\n",
       "    <tr>\n",
       "      <th>count</th>\n",
       "      <td>485.000000</td>\n",
       "      <td>460.000000</td>\n",
       "      <td>500.000000</td>\n",
       "      <td>500.000000</td>\n",
       "      <td>500.000000</td>\n",
       "      <td>485.000000</td>\n",
       "      <td>469.000000</td>\n",
       "      <td>460.000000</td>\n",
       "    </tr>\n",
       "    <tr>\n",
       "      <th>mean</th>\n",
       "      <td>13647.051546</td>\n",
       "      <td>76.663565</td>\n",
       "      <td>-37.812207</td>\n",
       "      <td>144.965873</td>\n",
       "      <td>11.290000</td>\n",
       "      <td>12117.760515</td>\n",
       "      <td>1.064973</td>\n",
       "      <td>0.734783</td>\n",
       "    </tr>\n",
       "    <tr>\n",
       "      <th>std</th>\n",
       "      <td>8211.122607</td>\n",
       "      <td>14.729531</td>\n",
       "      <td>0.007747</td>\n",
       "      <td>0.020868</td>\n",
       "      <td>8.691201</td>\n",
       "      <td>7261.113049</td>\n",
       "      <td>0.492287</td>\n",
       "      <td>0.441930</td>\n",
       "    </tr>\n",
       "    <tr>\n",
       "      <th>min</th>\n",
       "      <td>580.000000</td>\n",
       "      <td>47.770000</td>\n",
       "      <td>-37.832570</td>\n",
       "      <td>144.925726</td>\n",
       "      <td>0.000000</td>\n",
       "      <td>590.380000</td>\n",
       "      <td>0.050400</td>\n",
       "      <td>0.000000</td>\n",
       "    </tr>\n",
       "    <tr>\n",
       "      <th>25%</th>\n",
       "      <td>6920.000000</td>\n",
       "      <td>65.275000</td>\n",
       "      <td>-37.818525</td>\n",
       "      <td>144.950859</td>\n",
       "      <td>5.000000</td>\n",
       "      <td>6355.290000</td>\n",
       "      <td>0.701900</td>\n",
       "      <td>0.000000</td>\n",
       "    </tr>\n",
       "    <tr>\n",
       "      <th>50%</th>\n",
       "      <td>12215.000000</td>\n",
       "      <td>76.060000</td>\n",
       "      <td>-37.812245</td>\n",
       "      <td>144.963433</td>\n",
       "      <td>10.000000</td>\n",
       "      <td>10839.600000</td>\n",
       "      <td>1.040200</td>\n",
       "      <td>1.000000</td>\n",
       "    </tr>\n",
       "    <tr>\n",
       "      <th>75%</th>\n",
       "      <td>19125.000000</td>\n",
       "      <td>84.127500</td>\n",
       "      <td>-37.805876</td>\n",
       "      <td>144.981392</td>\n",
       "      <td>15.000000</td>\n",
       "      <td>16791.190000</td>\n",
       "      <td>1.402900</td>\n",
       "      <td>1.000000</td>\n",
       "    </tr>\n",
       "    <tr>\n",
       "      <th>max</th>\n",
       "      <td>40385.000000</td>\n",
       "      <td>111.200000</td>\n",
       "      <td>-37.788265</td>\n",
       "      <td>145.016324</td>\n",
       "      <td>25.000000</td>\n",
       "      <td>38485.000000</td>\n",
       "      <td>3.138800</td>\n",
       "      <td>1.000000</td>\n",
       "    </tr>\n",
       "  </tbody>\n",
       "</table>\n",
       "</div>"
      ],
      "text/plain": [
       "        order_price  delivery_charges  customer_lat  customer_long  \\\n",
       "count    485.000000        460.000000    500.000000     500.000000   \n",
       "mean   13647.051546         76.663565    -37.812207     144.965873   \n",
       "std     8211.122607         14.729531      0.007747       0.020868   \n",
       "min      580.000000         47.770000    -37.832570     144.925726   \n",
       "25%     6920.000000         65.275000    -37.818525     144.950859   \n",
       "50%    12215.000000         76.060000    -37.812245     144.963433   \n",
       "75%    19125.000000         84.127500    -37.805876     144.981392   \n",
       "max    40385.000000        111.200000    -37.788265     145.016324   \n",
       "\n",
       "       coupon_discount   order_total  distance_to_nearest_warehouse  \\\n",
       "count       500.000000    485.000000                     469.000000   \n",
       "mean         11.290000  12117.760515                       1.064973   \n",
       "std           8.691201   7261.113049                       0.492287   \n",
       "min           0.000000    590.380000                       0.050400   \n",
       "25%           5.000000   6355.290000                       0.701900   \n",
       "50%          10.000000  10839.600000                       1.040200   \n",
       "75%          15.000000  16791.190000                       1.402900   \n",
       "max          25.000000  38485.000000                       3.138800   \n",
       "\n",
       "       is_happy_customer  \n",
       "count         460.000000  \n",
       "mean            0.734783  \n",
       "std             0.441930  \n",
       "min             0.000000  \n",
       "25%             0.000000  \n",
       "50%             1.000000  \n",
       "75%             1.000000  \n",
       "max             1.000000  "
      ]
     },
     "execution_count": 67,
     "metadata": {},
     "output_type": "execute_result"
    }
   ],
   "source": [
    "missing_df.describe()"
   ]
  },
  {
   "cell_type": "markdown",
   "metadata": {},
   "source": [
    "<h3> Further detecting the errors/anamolies for the data. "
   ]
  },
  {
   "cell_type": "code",
   "execution_count": 68,
   "metadata": {},
   "outputs": [
    {
     "data": {
      "text/plain": [
       "0     2019-01-11\n",
       "1     2019-11-20\n",
       "2     2019-04-24\n",
       "3     2019-09-18\n",
       "4     2019-11-12\n",
       "5     2019-07-16\n",
       "6     2019-08-02\n",
       "7     2019-10-08\n",
       "8     2019-06-30\n",
       "9     2019-05-26\n",
       "10    2019-03-05\n",
       "11    2019-10-14\n",
       "12    2019-25-02\n",
       "13    2019-12-20\n",
       "14    2019-10-28\n",
       "15    2019-12-26\n",
       "16    2019-08-25\n",
       "17    2019-10-12\n",
       "18    2019-09-23\n",
       "19    2019-05-10\n",
       "Name: date, dtype: object"
      ]
     },
     "execution_count": 68,
     "metadata": {},
     "output_type": "execute_result"
    }
   ],
   "source": [
    "# Coppying the data frame to alter and make changes to find different analysis for the error data. \n",
    "dirty_eda = dirty_df\n",
    "dirty_eda['date'].head(20)"
   ]
  },
  {
   "cell_type": "markdown",
   "metadata": {},
   "source": [
    "As seen we are unsure about the date for 2019-25-02 when it comes to months and day representation. This can be edited with converting the date to datetime format with a special input.\n",
    "\n",
    "dirty_eda['date'] = pd.to_datetime(dirty_eda['date'], dayfirst= True)\n",
    "\n",
    "This is a case of syntatic error. \n",
    "\n",
    "Now for the seasons column, there seems to be a mismatch when it comes to assigning the seasons based on months.\n",
    "\n"
   ]
  },
  {
   "cell_type": "code",
   "execution_count": 69,
   "metadata": {
    "scrolled": true
   },
   "outputs": [
    {
     "data": {
      "text/html": [
       "<div>\n",
       "<style scoped>\n",
       "    .dataframe tbody tr th:only-of-type {\n",
       "        vertical-align: middle;\n",
       "    }\n",
       "\n",
       "    .dataframe tbody tr th {\n",
       "        vertical-align: top;\n",
       "    }\n",
       "\n",
       "    .dataframe thead th {\n",
       "        text-align: right;\n",
       "    }\n",
       "</style>\n",
       "<table border=\"1\" class=\"dataframe\">\n",
       "  <thead>\n",
       "    <tr style=\"text-align: right;\">\n",
       "      <th></th>\n",
       "      <th>date</th>\n",
       "      <th>season</th>\n",
       "    </tr>\n",
       "  </thead>\n",
       "  <tbody>\n",
       "    <tr>\n",
       "      <th>420</th>\n",
       "      <td>2019-11-29</td>\n",
       "      <td>Winter</td>\n",
       "    </tr>\n",
       "  </tbody>\n",
       "</table>\n",
       "</div>"
      ],
      "text/plain": [
       "           date  season\n",
       "420  2019-11-29  Winter"
      ]
     },
     "execution_count": 69,
     "metadata": {},
     "output_type": "execute_result"
    }
   ],
   "source": [
    "#As seen for some of the data in Dates and the Seasons there is a mismatch when it comes to assigning the seasons based on months\n",
    "\n",
    "dirty_eda['month'] = pd.to_datetime(dirty_eda['date'], dayfirst= True).dt.month\n",
    "\n",
    "summer_months = [12,1,2]\n",
    "winter_months = [6,7,8]\n",
    "a = dirty_eda[~dirty_eda.month.isin(summer_months)][['date','season']]\n",
    "a[a.season == 'Summer']\n",
    "\n",
    "b = dirty_eda[~dirty_eda.month.isin(winter_months)][['date','season']]\n",
    "b[b.season == 'Winter']\n"
   ]
  },
  {
   "cell_type": "markdown",
   "metadata": {},
   "source": [
    "There is a semantic error observed for the wrongful entry of season values. Here seen for month November, however winter months were from June to August."
   ]
  },
  {
   "cell_type": "code",
   "execution_count": 70,
   "metadata": {},
   "outputs": [
    {
     "data": {
      "text/html": [
       "<div>\n",
       "<style scoped>\n",
       "    .dataframe tbody tr th:only-of-type {\n",
       "        vertical-align: middle;\n",
       "    }\n",
       "\n",
       "    .dataframe tbody tr th {\n",
       "        vertical-align: top;\n",
       "    }\n",
       "\n",
       "    .dataframe thead th {\n",
       "        text-align: right;\n",
       "    }\n",
       "</style>\n",
       "<table border=\"1\" class=\"dataframe\">\n",
       "  <thead>\n",
       "    <tr style=\"text-align: right;\">\n",
       "      <th></th>\n",
       "      <th>customer_lat</th>\n",
       "      <th>customer_long</th>\n",
       "    </tr>\n",
       "  </thead>\n",
       "  <tbody>\n",
       "    <tr>\n",
       "      <th>0</th>\n",
       "      <td>144.973927</td>\n",
       "      <td>-37.812895</td>\n",
       "    </tr>\n",
       "    <tr>\n",
       "      <th>1</th>\n",
       "      <td>-37.810458</td>\n",
       "      <td>145.011527</td>\n",
       "    </tr>\n",
       "    <tr>\n",
       "      <th>2</th>\n",
       "      <td>-37.803835</td>\n",
       "      <td>144.963002</td>\n",
       "    </tr>\n",
       "    <tr>\n",
       "      <th>3</th>\n",
       "      <td>-37.814073</td>\n",
       "      <td>144.985729</td>\n",
       "    </tr>\n",
       "    <tr>\n",
       "      <th>4</th>\n",
       "      <td>-37.809613</td>\n",
       "      <td>144.991366</td>\n",
       "    </tr>\n",
       "    <tr>\n",
       "      <th>5</th>\n",
       "      <td>-37.813636</td>\n",
       "      <td>145.000079</td>\n",
       "    </tr>\n",
       "    <tr>\n",
       "      <th>6</th>\n",
       "      <td>-37.824632</td>\n",
       "      <td>144.984665</td>\n",
       "    </tr>\n",
       "    <tr>\n",
       "      <th>7</th>\n",
       "      <td>-37.820726</td>\n",
       "      <td>144.941532</td>\n",
       "    </tr>\n",
       "    <tr>\n",
       "      <th>8</th>\n",
       "      <td>-37.818962</td>\n",
       "      <td>145.008436</td>\n",
       "    </tr>\n",
       "    <tr>\n",
       "      <th>9</th>\n",
       "      <td>-37.803496</td>\n",
       "      <td>144.994822</td>\n",
       "    </tr>\n",
       "    <tr>\n",
       "      <th>10</th>\n",
       "      <td>-37.803573</td>\n",
       "      <td>144.949700</td>\n",
       "    </tr>\n",
       "    <tr>\n",
       "      <th>11</th>\n",
       "      <td>-37.817093</td>\n",
       "      <td>144.988818</td>\n",
       "    </tr>\n",
       "    <tr>\n",
       "      <th>12</th>\n",
       "      <td>-37.809865</td>\n",
       "      <td>144.979179</td>\n",
       "    </tr>\n",
       "    <tr>\n",
       "      <th>13</th>\n",
       "      <td>-37.814659</td>\n",
       "      <td>144.937744</td>\n",
       "    </tr>\n",
       "    <tr>\n",
       "      <th>14</th>\n",
       "      <td>144.977005</td>\n",
       "      <td>-37.812787</td>\n",
       "    </tr>\n",
       "  </tbody>\n",
       "</table>\n",
       "</div>"
      ],
      "text/plain": [
       "    customer_lat  customer_long\n",
       "0     144.973927     -37.812895\n",
       "1     -37.810458     145.011527\n",
       "2     -37.803835     144.963002\n",
       "3     -37.814073     144.985729\n",
       "4     -37.809613     144.991366\n",
       "5     -37.813636     145.000079\n",
       "6     -37.824632     144.984665\n",
       "7     -37.820726     144.941532\n",
       "8     -37.818962     145.008436\n",
       "9     -37.803496     144.994822\n",
       "10    -37.803573     144.949700\n",
       "11    -37.817093     144.988818\n",
       "12    -37.809865     144.979179\n",
       "13    -37.814659     144.937744\n",
       "14    144.977005     -37.812787"
      ]
     },
     "execution_count": 70,
     "metadata": {},
     "output_type": "execute_result"
    }
   ],
   "source": [
    "dirty_eda[['customer_lat', 'customer_long']].head(15)"
   ]
  },
  {
   "cell_type": "markdown",
   "metadata": {},
   "source": [
    "As seen for the customer latitude and longitude values, the latitude and longitudes seem to be visibly interchanged. This can be a case of invalid tuples when considering the location for it. And should be rectified."
   ]
  },
  {
   "cell_type": "markdown",
   "metadata": {},
   "source": [
    "Similarly for column values descrepancies can be found in order_total, distance_between_the_warehouse these calculations can be made to look for potential synctatic errors. "
   ]
  },
  {
   "cell_type": "markdown",
   "metadata": {},
   "source": [
    "Also to check for If the customer is happy or not we need to find the compound score for the Sentimental Analysis. For a compound score of greater than 0.5 the customer is valued to be happy. "
   ]
  },
  {
   "cell_type": "code",
   "execution_count": 71,
   "metadata": {},
   "outputs": [],
   "source": [
    "#function for finding Column : 'is_happy_customer' values\n",
    "\n",
    "\n",
    "def is_happy_customer(text):\n",
    "    SIA = SentimentIntensityAnalyzer()\n",
    "    score = SIA.polarity_scores(text)\n",
    "    #print(score['compound'])\n",
    "    #Rules include if a customer has no previous review or the score is greater than 0.05 then the customer is happy\n",
    "    if (score['compound'] >= 0.05) or (text == 'None'):\n",
    "        return True\n",
    "    else:\n",
    "        return False\n"
   ]
  },
  {
   "cell_type": "markdown",
   "metadata": {},
   "source": [
    "In the below function I'm calculating the item_price for each of the items in the shopping cart. But since, missing data has no anomalies when it comes to the item price, I've considered the use of missing data file here for calculations. "
   ]
  },
  {
   "cell_type": "code",
   "execution_count": 72,
   "metadata": {},
   "outputs": [],
   "source": [
    "#function for generating shopping cart price list\n",
    "def item_price() :\n",
    "    \n",
    "    #looping through missing_data to compare the product list with inner loop\n",
    "    for i in range(0,len(missing_df)):\n",
    "        \n",
    "        #converting shopping cart value : (product, count) from string to list\n",
    "        cart1 = sorted(literal_eval(missing_df.shopping_cart.values[i]))\n",
    "        #storing products as list \n",
    "        product_list1 = [product[0] for product in cart1]\n",
    "    \n",
    "        #ending loop if price list for all items are calculated \n",
    "        if(len(price_dict) == 10):\n",
    "            break\n",
    "        \n",
    "        #skipping rows with order_price having blank values \n",
    "        if(math.isnan(missing_df.order_price.values[i])):\n",
    "            continue\n",
    "        \n",
    "        #looping through missing_data to compare the product list with outer loop\n",
    "        for j in range(0,len(missing_df)):\n",
    "            \n",
    "            #skipping rows with order_price having blank values  \n",
    "            if(math.isnan(missing_df.order_price.values[j])):\n",
    "                continue\n",
    "            \n",
    "            #initializing variables\n",
    "            cost = 0\n",
    "            cart_list = []\n",
    "            notin_list = []\n",
    "            \n",
    "            cart2 = sorted(literal_eval(missing_df.shopping_cart.values[j]))\n",
    "            product_list2 = [product[0] for product in cart2]\n",
    "         \n",
    "            #finding list of products not there in either product_list\n",
    "            item = set(product_list1).symmetric_difference(set(product_list2))\n",
    "            \n",
    "            #finding list of products in cart2 with price missing\n",
    "            for product in cart2:\n",
    "                if product[0] in price_dict.keys():\n",
    "                    #print(product)\n",
    "                    cart_list.append(product[0])\n",
    "                    cost += price_dict[product[0]]*product[1]\n",
    "                    #print(cost)\n",
    "                else:\n",
    "                    notin_list.append(product)\n",
    "            \n",
    "            #calculating price if only 1 product in cart2 is missing price\n",
    "            if(len(notin_list) == 1):\n",
    "                #calculating product price\n",
    "                p = (missing_df.order_price.values[j]-cost)/notin_list[0][1]\n",
    "                #saving the product and price to price_dict\n",
    "                price_dict[notin_list[0][0]] = abs(int(p))\n",
    "            \n",
    "            #checking if products in both product_lists are same or not\n",
    "            elif (len(item) == 0) :\n",
    "                \n",
    "                #storing count of product as a matrix\n",
    "                product_count = np.array([[product[1] for product in cart1], [product[1] for product in cart2]])\n",
    "                #storing order total price for both product list as a matrix\n",
    "                total_price = np.array([missing_df.order_price.values[i], missing_df.order_price.values[j]])\n",
    "                #converting both product and total_price matrix into a square matrix\n",
    "                sq_product_count = np.zeros((max(product_count.shape), max(product_count.shape)))\n",
    "                sq_product_count[:product_count.shape[0],:product_count.shape[1]] = product_count\n",
    "                \n",
    "                sq_total_price = np.zeros((max(product_count.shape)))\n",
    "                sq_total_price[:total_price.shape[0]] = total_price\n",
    "                \n",
    "                try:\n",
    "                    price = linalg.solve(sq_product_count, sq_total_price)\n",
    "                    for k in range(len(price)):\n",
    "                        price_dict[product_list1[k]] = abs(int(price[k])) \n",
    "                except linalg.LinAlgError as err:\n",
    "                    if 'Singular matrix' in str(err):\n",
    "                        #reinitializing lists to avoid duplication on err\n",
    "                        cart_list = []\n",
    "                        notin_list = []\n",
    "                \n",
    "                #reinitialiting lists to avoid duplication \n",
    "                cart_list = []\n",
    "                notin_list = []\n"
   ]
  },
  {
   "cell_type": "markdown",
   "metadata": {},
   "source": [
    "Calculating the order_price by verifying the sum of individual item price and it's units. "
   ]
  },
  {
   "cell_type": "code",
   "execution_count": 73,
   "metadata": {},
   "outputs": [],
   "source": [
    "#function for finding Column : 'order_price' values\n",
    "\n",
    "def order_price(item_list):\n",
    "    #print(literal_eval(item_list))\n",
    "    item_list = literal_eval(item_list)\n",
    "    price = 0\n",
    "    for value in item_list:\n",
    "        # Verifying the order price with the item order count and the price for it to get the total\n",
    "        price += price_dict[value[0]]*value[1]\n",
    "        \n",
    "    #print('total',price)\n",
    "    return price\n"
   ]
  },
  {
   "cell_type": "markdown",
   "metadata": {},
   "source": [
    "Calculating the order_total by substracting the discount price and then adding the delivery charge for each of the discounted price. "
   ]
  },
  {
   "cell_type": "code",
   "execution_count": 74,
   "metadata": {},
   "outputs": [],
   "source": [
    "#function for finding Column : 'order_total' values\n",
    "\n",
    "# Calculating the order total after applying the coupon discount and then adding the delivery charges\n",
    "\n",
    "def order_total(order_price, discount, delivery_charge):\n",
    "    \n",
    "    discounted_price = (100 - discount)/100 * order_price\n",
    "    total_price = discounted_price + delivery_charge\n",
    "    #print(total_price)\n",
    "    \n",
    "    return total_price\n"
   ]
  },
  {
   "cell_type": "markdown",
   "metadata": {},
   "source": [
    "As seen from the statistical analysis, there was a inconsistency with the the lat long values, which on further investigation we found that the lat long values were interchanged. "
   ]
  },
  {
   "cell_type": "code",
   "execution_count": 75,
   "metadata": {},
   "outputs": [],
   "source": [
    "#function for finding Column : lat_long' values\n",
    "\n",
    "# Checking for irregularities in latitudes and longitudes\n",
    "# Swapping the values for lat and long if latitude values are greater and less than -90\n",
    "\n",
    "#The numbers are in decimal degrees format and range from -90 to 90 for latitude and -180 to 180 for longitude.\n",
    "\n",
    "def lat_long(lat, long):\n",
    "    if lat > 90 or lat < -90:\n",
    "        #print(lat)\n",
    "        lat = lat + long\n",
    "        long = lat - long\n",
    "        lat = lat - long\n",
    "    \n",
    "    return lat, long\n"
   ]
  },
  {
   "cell_type": "markdown",
   "metadata": {},
   "source": [
    "Function to calculate the Havesian distance between the two locations i.e the customer and warehouse location. "
   ]
  },
  {
   "cell_type": "code",
   "execution_count": 76,
   "metadata": {},
   "outputs": [],
   "source": [
    "#Calculating the nearest distance between the customer and warehouse using the Havesian distance\n",
    "\n",
    "def distance_to_nearest_warehouse(warehouse, lat, long):\n",
    "    #Fetching the warehouse coordinates from the warehouse dict\n",
    "    warehouse_coordinates = warehouse_dict[warehouse]\n",
    "    \n",
    "    #Converting the float lat long values to radians\n",
    "    customer_lat = math.radians(lat)\n",
    "    customer_long = math.radians(long)\n",
    "    warehouse_lat = math.radians(warehouse_coordinates[0])\n",
    "    warehouse_long = math.radians(warehouse_coordinates[1])\n",
    "    \n",
    "    # Applying Havesian distance formula to find the distance between the customer and warehouse co-ordinates\n",
    "    dlat = customer_lat - warehouse_lat\n",
    "    dlong = customer_long - warehouse_long\n",
    "    a = math.sin(dlat / 2)**2 + math.cos(warehouse_lat) * math.cos(customer_lat) * math.sin(dlong / 2)**2\n",
    "    c = 2 * math.atan2(math.sqrt(a), math.sqrt(1 - a))\n",
    "    distance = 6378.0 * c\n",
    "    #print(distance)\n",
    "    \n",
    "    # Approximation to upto 4 decimal places\n",
    "    round_distance = round(distance,4)\n",
    "    #print (round_distance)\n",
    "    \n",
    "    return round_distance"
   ]
  },
  {
   "cell_type": "markdown",
   "metadata": {},
   "source": [
    "Function to find the nearest warehouse from the customer and warehouse locations. The warehouse location is retreived from the stored warehouse dict. "
   ]
  },
  {
   "cell_type": "code",
   "execution_count": 77,
   "metadata": {},
   "outputs": [],
   "source": [
    "#function for finding Column : 'nearest_warehouse' values\n",
    "\n",
    "# To impute the missing values for nearest warehouse column  \n",
    "\n",
    "def nearest_warehouse(lat, long):\n",
    "    temp_warehouse = {}\n",
    "    for warehouse, coordinates in warehouse_dict.items():\n",
    "        warehouse_coordinates = coordinates\n",
    "        #print(warehouse_coordinates)\n",
    "        customer_lat = math.radians(lat)\n",
    "        customer_long = math.radians(long)\n",
    "        warehouse_lat = math.radians(warehouse_coordinates[0])\n",
    "        warehouse_long = math.radians(warehouse_coordinates[1])\n",
    "        \n",
    "        # Finding the Havesian distance \n",
    "        dlat = customer_lat - warehouse_lat\n",
    "        dlong = customer_long - warehouse_long\n",
    "        a = math.sin(dlat / 2)**2 + math.cos(warehouse_lat) * math.cos(customer_lat) * math.sin(dlong / 2)**2\n",
    "        c = 2 * math.atan2(math.sqrt(a), math.sqrt(1 - a))\n",
    "        distance = 6378.0 * c\n",
    "        #print(distance)\n",
    "        round_distance = round(distance,4)\n",
    "        \n",
    "        # Storing the calculated distance as the key and warehouse name as the value in the temp dict\n",
    "        temp_warehouse[round_distance] = warehouse\n",
    "    \n",
    "    # Sorting and fetching the least distance value for the warehouse location\n",
    "    nearest_wh = sorted(temp_warehouse.items())[0]\n",
    "    #print(nearest_wh[1])\n",
    "    return nearest_wh[1]\n",
    "\n"
   ]
  },
  {
   "cell_type": "markdown",
   "metadata": {},
   "source": [
    "As seen for the season inconsistencies with the the dates(months). Season values are calculated based on the dates."
   ]
  },
  {
   "cell_type": "code",
   "execution_count": 78,
   "metadata": {},
   "outputs": [],
   "source": [
    "#Function for finding Column : 'season' values    \n",
    "\n",
    "#Checking for the values of month in the list of seasons month list initialized at the start. \n",
    "\n",
    "def season(date, season):\n",
    "    #print(date)    \n",
    "    date = datetime.datetime.strptime(str(date)[:10], '%Y-%m-%d')\n",
    "    #print(date.strftime('%B'))\n",
    "    if date.strftime('%B') in Spring:\n",
    "        if season != 'Spring':\n",
    "            #print('Spring', season)\n",
    "            season = 'Spring'\n",
    "    elif date.strftime('%B') in Summer:\n",
    "        #print('Summer')\n",
    "        if season != 'Summer':\n",
    "            season = 'Summer'\n",
    "    elif date.strftime('%B') in Autumn:\n",
    "        #print('Autumn')\n",
    "        if season != 'Autumn':\n",
    "            season = 'Autumn'\n",
    "    elif date.strftime('%B') in Winter:\n",
    "        #print('Winter')\n",
    "        if season != 'Winter':\n",
    "            season = 'Winter'\n",
    "\n",
    "    return season\n"
   ]
  },
  {
   "cell_type": "markdown",
   "metadata": {},
   "source": [
    " <h2> Processing for the Dirty Data File : "
   ]
  },
  {
   "cell_type": "code",
   "execution_count": 79,
   "metadata": {},
   "outputs": [],
   "source": [
    "#Calling fn to create item price list     \n",
    "item_price()\n",
    "\n",
    "#As some values have a precision greater than 4 , to keep the data consistent , removing the \n",
    "dirty_df['distance_to_nearest_warehouse'] = dirty_df['distance_to_nearest_warehouse'].round(decimals=4)\n",
    "\n",
    "#Storing a temporary variable to store the values for the correct representation of date and time\n",
    "d = pd.to_datetime(dirty_df['date'], dayfirst= True )\n"
   ]
  },
  {
   "cell_type": "code",
   "execution_count": 80,
   "metadata": {},
   "outputs": [
    {
     "name": "stderr",
     "output_type": "stream",
     "text": [
      "<ipython-input-80-84c7e907ec0f>:15: SettingWithCopyWarning: \n",
      "A value is trying to be set on a copy of a slice from a DataFrame\n",
      "\n",
      "See the caveats in the documentation: https://pandas.pydata.org/pandas-docs/stable/user_guide/indexing.html#returning-a-view-versus-a-copy\n",
      "  dirty_df.date[i] = pd.to_datetime(dirty_df['date'][i], dayfirst= True )\n",
      "<ipython-input-80-84c7e907ec0f>:16: SettingWithCopyWarning: \n",
      "A value is trying to be set on a copy of a slice from a DataFrame\n",
      "\n",
      "See the caveats in the documentation: https://pandas.pydata.org/pandas-docs/stable/user_guide/indexing.html#returning-a-view-versus-a-copy\n",
      "  dirty_df.date[i] = dirty_df.date[i].strftime('%Y-%m-%d')\n"
     ]
    }
   ],
   "source": [
    "#Checking and updating the inconsistent values from the dirty data file\n",
    "\n",
    "#If a record is updated then the function skips to the next row in the data frame and doesn't check for errors in other columns\n",
    "\n",
    "for i in range(0,len(dirty_df)):\n",
    "    \n",
    "    #capitalizing nearest_warehouse values\n",
    "    if dirty_df.nearest_warehouse.values[i] != dirty_df.nearest_warehouse.values[i].capitalize():\n",
    "        dirty_df.nearest_warehouse.values[i] == dirty_df.nearest_warehouse.values[i].capitalize()\n",
    "        #index.append(i)\n",
    "        continue  \n",
    "   \n",
    "    #Checking for the date column irregularities\n",
    "    if d[i].strftime('%Y-%m-%d') != dirty_df.date[i]:\n",
    "        dirty_df.date[i] = pd.to_datetime(dirty_df['date'][i], dayfirst= True )\n",
    "        dirty_df.date[i] = dirty_df.date[i].strftime('%Y-%m-%d')\n",
    "        #index.append(i)\n",
    "        #print(dirty_df.date[i])\n",
    "        continue\n",
    "    \n",
    "    \n",
    "    temp_season = season(dirty_df.date.values[i], dirty_df.season.values[i])\n",
    "    if temp_season != dirty_df.season.values[i]:\n",
    "        dirty_df.season.values[i] = temp_season\n",
    "        #index.append(i)\n",
    "        continue\n",
    "    \n",
    "    temp_lat, temp_long = lat_long(dirty_df.customer_lat.values[i], dirty_df.customer_long.values[i])\n",
    "    if temp_lat != dirty_df.customer_lat.values[i]:\n",
    "        dirty_df.customer_lat.values[i] = temp_lat \n",
    "        dirty_df.customer_long.values[i] = temp_long\n",
    "        #index.append(i)\n",
    "        continue\n",
    "    \n",
    "    temp_distance = distance_to_nearest_warehouse(dirty_df.nearest_warehouse.values[i], dirty_df.customer_lat.values[i], dirty_df.customer_long.values[i])\n",
    "    if temp_distance != dirty_df.distance_to_nearest_warehouse.values[i]:\n",
    "        dirty_df.distance_to_nearest_warehouse.values[i] = temp_distance\n",
    "        #index.append(i)\n",
    "        continue\n",
    "        \n",
    "        \n",
    "    temp_warehouse = nearest_warehouse(dirty_df.customer_lat.values[i], dirty_df.customer_long.values[i])\n",
    "    if temp_warehouse != dirty_df.nearest_warehouse.values[i]:\n",
    "        dirty_df.nearest_warehouse.values[i] = temp_warehouse\n",
    "        #index.append(i)\n",
    "        #continue    \n",
    "\n",
    "    temp_is_happy = is_happy_customer(dirty_df.latest_customer_review.values[i])\n",
    "    if temp_is_happy != dirty_df.is_happy_customer.values[i]:\n",
    "        dirty_df.is_happy_customer.values[i] = temp_is_happy\n",
    "        #index.append(i)\n",
    "        continue\n",
    "    \n",
    "\n",
    "    temp_price = order_price(dirty_df.shopping_cart.values[i])\n",
    "    if temp_price != dirty_df.order_price.values[i]:\n",
    "        dirty_df.order_price.values[i] = temp_price\n",
    "        #index.append(i)\n",
    "        continue\n",
    "    \n",
    "    temp_total = order_total(dirty_df.order_price.values[i], dirty_df.coupon_discount.values[i], dirty_df.delivery_charges.values[i])\n",
    "    if temp_total != dirty_df.order_total.values[i]:\n",
    "        dirty_df.order_total.values[i] = temp_total\n",
    "        #index.append(i)\n",
    "        continue\n",
    "\n",
    "dirty_df['date'] = pd.to_datetime(dirty_df['date'], dayfirst= True )    \n",
    "#Saving dirty_data dataframe as .csv file\n",
    "dirty_df.to_csv('31224075_dirty_data_solution.csv', index = False)\n",
    "\n"
   ]
  },
  {
   "cell_type": "markdown",
   "metadata": {},
   "source": [
    "<h2> Imputing values for Missing Data : </h2>\n",
    "\n",
    "Here, all the missing values in the columns are quite random and can be imputed as they are calculations and some are dependent on others. \n",
    "\n",
    "The delivery_charges column is linearly dependent on is_expedited_delivery, distance_to_nearest_warehouse and is_happy_customer and the linear model hence made will depend in different ways for different seasons.\n",
    "\n",
    "Hence 4 different linear models will be made for 4 different seasons. \n"
   ]
  },
  {
   "cell_type": "code",
   "execution_count": 81,
   "metadata": {},
   "outputs": [],
   "source": [
    "\n",
    "#function to initialize linear_model\n",
    "def init_linear_model(dataframe):\n",
    "    #print(dataframe)\n",
    "    #Creating a subset for the dataframe already transformed for all the other values of the data frame\n",
    "    model_df = dataframe[['distance_to_nearest_warehouse','is_expedited_delivery','is_happy_customer','delivery_charges','season']]\n",
    "    #Deleting records containing nan values for columns other than delivery charges\n",
    "    model_df.dropna(subset=['distance_to_nearest_warehouse','is_expedited_delivery','is_happy_customer','season'],axis=0,inplace=True)\n",
    "    \n",
    "    #Deleting the records containing nan fields for delivery charges\n",
    "    model_df.dropna(subset=['delivery_charges'],axis=0,inplace=True)\n",
    "    \n",
    "    #Assigning the model to be passed to the linear model based on season\n",
    "    lm_fitting_Winter_df = model_df.loc[model_df['season'] == 'Winter']\n",
    "    lm_fitting_Summer_df = model_df.loc[model_df['season'] == 'Summer']\n",
    "    lm_fitting_Autumn_df = model_df.loc[model_df['season'] == 'Autumn']\n",
    "    lm_fitting_Spring_df = model_df.loc[model_df['season'] == 'Spring']\n",
    "    \n",
    "    #storing train_test_split output\n",
    "    x_train_winter, x_test_winter, y_train_winter, y_test_winter = train_test_split(lm_fitting_Winter_df[[x for x in lm_fitting_Winter_df.columns if x != 'delivery_charges' and x!= 'season']],lm_fitting_Winter_df['delivery_charges'], test_size=0.50, random_state=7)\n",
    "    x_train_summer, x_test_summer, y_train_summer, y_test_summer = train_test_split(lm_fitting_Summer_df[[x for x in lm_fitting_Summer_df.columns if x != 'delivery_charges' and x!= 'season']],lm_fitting_Summer_df['delivery_charges'], test_size=0.33, random_state=7)\n",
    "    x_train_autumn, x_test_autumn, y_train_autumn, y_test_autumn = train_test_split(lm_fitting_Autumn_df[[x for x in lm_fitting_Autumn_df.columns if x != 'delivery_charges' and x!= 'season']],lm_fitting_Autumn_df['delivery_charges'], test_size=0.33, random_state=7)\n",
    "    x_train_spring, x_test_spring, y_train_spring, y_test_spring = train_test_split(lm_fitting_Spring_df[[x for x in lm_fitting_Spring_df.columns if x != 'delivery_charges' and x!= 'season']],lm_fitting_Spring_df['delivery_charges'], test_size=0.33, random_state=7)\n",
    "    \n",
    "    # Fit the linear model with the training data frame and the test dataframe\n",
    "    lm_for_Winter.fit(x_train_winter, y_train_winter) #fit\n",
    "    lm_for_Summer.fit(x_train_summer, y_train_summer) #fit\n",
    "    lm_for_Autumn.fit(x_train_autumn, y_train_autumn) #fit\n",
    "    lm_for_Spring.fit(x_train_spring, y_train_spring) #fit\n"
   ]
  },
  {
   "cell_type": "code",
   "execution_count": 82,
   "metadata": {},
   "outputs": [
    {
     "name": "stderr",
     "output_type": "stream",
     "text": [
      "<ipython-input-81-7d4917f9c2b7>:7: SettingWithCopyWarning: \n",
      "A value is trying to be set on a copy of a slice from a DataFrame\n",
      "\n",
      "See the caveats in the documentation: https://pandas.pydata.org/pandas-docs/stable/user_guide/indexing.html#returning-a-view-versus-a-copy\n",
      "  model_df.dropna(subset=['distance_to_nearest_warehouse','is_expedited_delivery','is_happy_customer','season'],axis=0,inplace=True)\n",
      "<ipython-input-81-7d4917f9c2b7>:10: SettingWithCopyWarning: \n",
      "A value is trying to be set on a copy of a slice from a DataFrame\n",
      "\n",
      "See the caveats in the documentation: https://pandas.pydata.org/pandas-docs/stable/user_guide/indexing.html#returning-a-view-versus-a-copy\n",
      "  model_df.dropna(subset=['delivery_charges'],axis=0,inplace=True)\n"
     ]
    }
   ],
   "source": [
    "#calling function to initialize train dataset\n",
    "init_linear_model(missing_df)"
   ]
  },
  {
   "cell_type": "code",
   "execution_count": 83,
   "metadata": {},
   "outputs": [],
   "source": [
    "def predict(index, dataframe):\n",
    "    #creating a subset of dataframe with required columns\n",
    "    data = dataframe.loc[index, ['distance_to_nearest_warehouse','is_expedited_delivery','is_happy_customer','delivery_charges','season']]\n",
    "    #adding column names to the dataframe\n",
    "    model_df_impute = pd.DataFrame([data], columns=['distance_to_nearest_warehouse','is_expedited_delivery','is_happy_customer','delivery_charges','season'])\n",
    "\n",
    "    if(model_df_impute['season'].item() == 'Winter'):\n",
    "        # Predicting the values for the test column \n",
    "        predict_charge = lm_for_Winter.predict(model_df_impute.drop(['delivery_charges', 'season'],axis=1)) \n",
    "        \n",
    "    if(model_df_impute['season'].item() == 'Summer'):\n",
    "        # Predicting the values for the test column \n",
    "        predict_charge = lm_for_Summer.predict(model_df_impute.drop(['delivery_charges', 'season'],axis=1))\n",
    "   \n",
    "    if(model_df_impute['season'].item() == 'Autumn'):\n",
    "        # Predicting the values for the test column \n",
    "        predict_charge = lm_for_Autumn.predict(model_df_impute.drop(['delivery_charges', 'season'],axis=1))\n",
    "  \n",
    "    if(model_df_impute['season'].item() == 'Spring'):\n",
    "        # Predicting the values for the test column \n",
    "        predict_charge = lm_for_Spring.predict(model_df_impute.drop(['delivery_charges', 'season'],axis=1)) \n",
    "   \n",
    "    \n",
    "    return predict_charge[0].round(decimals=2)\n",
    "\n"
   ]
  },
  {
   "cell_type": "markdown",
   "metadata": {},
   "source": [
    "Predict function is called on the linear model to predict the target values for the missing fields."
   ]
  },
  {
   "cell_type": "markdown",
   "metadata": {},
   "source": [
    "<h3> Imputing Missing values </h3>\n",
    "\n",
    "Imputing the missing data values for the columns having nulls in their value fields. "
   ]
  },
  {
   "cell_type": "code",
   "execution_count": 84,
   "metadata": {},
   "outputs": [],
   "source": [
    "for i in range(0,len(missing_df)):\n",
    "    \n",
    "    #creating a list of column names with null values \n",
    "    temp_df = pd.DataFrame([missing_df.values[i]], columns = missing_df.columns)\n",
    "    null_columns = temp_df.columns[temp_df.isna().any()].tolist()\n",
    "\n",
    "    for columns in null_columns:\n",
    "        if columns == 'nearest_warehouse':\n",
    "            missing_df.nearest_warehouse.values[i] = nearest_warehouse(missing_df.customer_lat.values[i], missing_df.customer_long.values[i])\n",
    "   \n",
    "        if columns == 'order_price':\n",
    "            missing_df.order_price.values[i] = order_price(missing_df.shopping_cart.values[i])\n",
    "\n",
    "        if columns == 'delivery_charges':\n",
    "            missing_df.delivery_charges.values[i] = predict(i, missing_df)\n",
    "       \n",
    "        if columns == 'order_total':\n",
    "            missing_df.order_total.values[i] = order_total(missing_df.order_price.values[i], missing_df.coupon_discount.values[i], missing_df.delivery_charges.values[i])\n",
    "            \n",
    "        if columns == 'distance_to_nearest_warehouse':\n",
    "            missing_df.distance_to_nearest_warehouse.values[i] = distance_to_nearest_warehouse(missing_df.nearest_warehouse.values[i], missing_df.customer_lat.values[i], missing_df.customer_long.values[i])\n",
    "            \n",
    "        if columns == 'is_happy_customer':\n",
    "            missing_df.is_happy_customer.values[i] = is_happy_customer(missing_df.latest_customer_review.values[i])\n",
    "        \n",
    "#Saving dirty_data dataframe as .csv file\n",
    "missing_df.to_csv('31224075_missing_data_solution.csv', index = False)\n"
   ]
  },
  {
   "cell_type": "markdown",
   "metadata": {},
   "source": [
    "<h3> Verifying for all the missing values."
   ]
  },
  {
   "cell_type": "code",
   "execution_count": 85,
   "metadata": {},
   "outputs": [
    {
     "data": {
      "text/plain": [
       "order_id                         False\n",
       "customer_id                      False\n",
       "date                             False\n",
       "nearest_warehouse                False\n",
       "shopping_cart                    False\n",
       "order_price                      False\n",
       "delivery_charges                 False\n",
       "customer_lat                     False\n",
       "customer_long                    False\n",
       "coupon_discount                  False\n",
       "order_total                      False\n",
       "season                           False\n",
       "is_expedited_delivery            False\n",
       "distance_to_nearest_warehouse    False\n",
       "latest_customer_review           False\n",
       "is_happy_customer                False\n",
       "dtype: bool"
      ]
     },
     "execution_count": 85,
     "metadata": {},
     "output_type": "execute_result"
    }
   ],
   "source": [
    "missing_df.isna().any()"
   ]
  },
  {
   "cell_type": "markdown",
   "metadata": {},
   "source": [
    "<h2> Processing for Outlier Data </h2>"
   ]
  },
  {
   "cell_type": "markdown",
   "metadata": {},
   "source": [
    "For the outliers data, as we need to consider only for the delivery_orders column, we can predict the outliers by finding the linear regression model for the outlier data values. And plotting the residuals i.e. the difference between the actual and the predicted values for the data based on seasons. "
   ]
  },
  {
   "cell_type": "code",
   "execution_count": 86,
   "metadata": {},
   "outputs": [
    {
     "name": "stderr",
     "output_type": "stream",
     "text": [
      "<ipython-input-81-7d4917f9c2b7>:7: SettingWithCopyWarning: \n",
      "A value is trying to be set on a copy of a slice from a DataFrame\n",
      "\n",
      "See the caveats in the documentation: https://pandas.pydata.org/pandas-docs/stable/user_guide/indexing.html#returning-a-view-versus-a-copy\n",
      "  model_df.dropna(subset=['distance_to_nearest_warehouse','is_expedited_delivery','is_happy_customer','season'],axis=0,inplace=True)\n",
      "<ipython-input-81-7d4917f9c2b7>:10: SettingWithCopyWarning: \n",
      "A value is trying to be set on a copy of a slice from a DataFrame\n",
      "\n",
      "See the caveats in the documentation: https://pandas.pydata.org/pandas-docs/stable/user_guide/indexing.html#returning-a-view-versus-a-copy\n",
      "  model_df.dropna(subset=['delivery_charges'],axis=0,inplace=True)\n"
     ]
    }
   ],
   "source": [
    "#calling function to initialize train dataset\n",
    "init_linear_model(outlier_df)"
   ]
  },
  {
   "cell_type": "code",
   "execution_count": 87,
   "metadata": {},
   "outputs": [],
   "source": [
    "for i in range(0,len(outlier_df)):\n",
    "    charge = predict(i, outlier_df)\n",
    "    #appending predicted delivery_charges onto a list\n",
    "    predicted_delivery_charge.append(charge)"
   ]
  },
  {
   "cell_type": "code",
   "execution_count": 88,
   "metadata": {},
   "outputs": [],
   "source": [
    "#creating a dataframe with predicted and actual delivery_charges\n",
    "predicted_df = predicted_outlier_df.assign(order_id = outlier_df['order_id'], predicted = predicted_delivery_charge, actual = outlier_df['delivery_charges'], season = outlier_df['season'])\n"
   ]
  },
  {
   "cell_type": "markdown",
   "metadata": {},
   "source": [
    "<h4> Plotting the residual plot between the predicted and the actual data."
   ]
  },
  {
   "cell_type": "code",
   "execution_count": 89,
   "metadata": {},
   "outputs": [
    {
     "data": {
      "image/png": "[encoded data removed]",
      "text/plain": [
       "<Figure size 432x288 with 1 Axes>"
      ]
     },
     "metadata": {
      "needs_background": "light"
     },
     "output_type": "display_data"
    }
   ],
   "source": [
    "plot = predicted_df.plot.scatter(\n",
    "    x = 'actual', y = 'predicted',\n",
    "    legend=False\n",
    "    #color='dr_light_blue',\n",
    ")\n",
    "plot.set_facecolor('#0E162A')\n"
   ]
  },
  {
   "cell_type": "markdown",
   "metadata": {},
   "source": [
    "<h4> We now calculate the residual score which is the difference between the predicted and the actual values. "
   ]
  },
  {
   "cell_type": "code",
   "execution_count": 90,
   "metadata": {},
   "outputs": [],
   "source": [
    "#finding and storing difference between predicted and actual delivery_charges\n",
    "predicted_df['difference'] = (predicted_df['predicted'] - predicted_df['actual'])\n"
   ]
  },
  {
   "cell_type": "markdown",
   "metadata": {},
   "source": [
    "<h4> Plotting the residual score for the 4 different seasons to check for outliers in the data. "
   ]
  },
  {
   "cell_type": "code",
   "execution_count": 91,
   "metadata": {},
   "outputs": [
    {
     "data": {
      "image/png": "[encoded data removed]",
      "text/plain": [
       "<Figure size 432x288 with 1 Axes>"
      ]
     },
     "metadata": {
      "needs_background": "light"
     },
     "output_type": "display_data"
    }
   ],
   "source": [
    "#ploting the diff against season \n",
    "box_plot = predicted_df.boxplot(column='difference', by = 'season')\n",
    "plt.show()"
   ]
  },
  {
   "cell_type": "markdown",
   "metadata": {},
   "source": [
    "<h3> Function to find the outliers using interquartile range (IQR) and removing all the residual scores which are greater than the upper_limit and scores which are lesser than the lower limit. "
   ]
  },
  {
   "cell_type": "code",
   "execution_count": 92,
   "metadata": {},
   "outputs": [],
   "source": [
    "#generate outliers\n",
    "def outlier_detection(data):\n",
    "    Q1 = data['difference'].quantile(0.25)\n",
    "    Q3 = data['difference'].quantile(0.75)\n",
    "    IQR = Q3 -Q1\n",
    "    upper_limit = Q3+1.5*IQR\n",
    "    lower_limit = Q1-1.5*IQR\n",
    "    for i in range(0,len(data)):\n",
    "        if (data.difference.values[i]) > upper_limit or (data.difference.values[i]) < lower_limit :\n",
    "            outlier.append(data.order_id.values[i])\n",
    "        \n",
    "                "
   ]
  },
  {
   "cell_type": "code",
   "execution_count": 93,
   "metadata": {},
   "outputs": [],
   "source": [
    "#Finding the outliers for each of the predicted \n",
    "\n",
    "#calling function to generate outliers based on season\n",
    "outlier_detection(predicted_df.loc[predicted_df['season'] == 'Winter'])\n",
    "outlier_detection(predicted_df.loc[predicted_df['season'] == 'Summer'])\n",
    "outlier_detection(predicted_df.loc[predicted_df['season'] == 'Autumn'])\n",
    "outlier_detection(predicted_df.loc[predicted_df['season'] == 'Spring'])"
   ]
  },
  {
   "cell_type": "code",
   "execution_count": 94,
   "metadata": {},
   "outputs": [],
   "source": [
    "#removing outlier\n",
    "for i in outlier:\n",
    "    #print(len(outlier))\n",
    "    if i in outlier_df.values:\n",
    "        outlier_df.drop(outlier_df.loc[outlier_df['order_id']==i].index, inplace=True)\n",
    "   "
   ]
  },
  {
   "cell_type": "code",
   "execution_count": 95,
   "metadata": {},
   "outputs": [],
   "source": [
    "#Saving outlier_data dataframe as .csv file\n",
    "outlier_df.to_csv('31224075_outlier_data_solution.csv', index = False)"
   ]
  },
  {
   "cell_type": "code",
   "execution_count": 96,
   "metadata": {},
   "outputs": [
    {
     "data": {
      "text/plain": [
       "475"
      ]
     },
     "execution_count": 96,
     "metadata": {},
     "output_type": "execute_result"
    }
   ],
   "source": [
    "len(outlier_df)"
   ]
  },
  {
   "cell_type": "markdown",
   "metadata": {},
   "source": [
    "<h2> After removing the outliers from the data. "
   ]
  },
  {
   "cell_type": "code",
   "execution_count": 97,
   "metadata": {},
   "outputs": [],
   "source": [
    "#removing outlier\n",
    "for i in outlier:\n",
    "    \n",
    "    if i in predicted_df.values:\n",
    "        predicted_df.drop(predicted_df.loc[predicted_df['order_id']==i].index, inplace=True)"
   ]
  },
  {
   "cell_type": "code",
   "execution_count": 98,
   "metadata": {},
   "outputs": [
    {
     "data": {
      "image/png": "[encoded data removed]",
      "text/plain": [
       "<Figure size 432x288 with 1 Axes>"
      ]
     },
     "metadata": {
      "needs_background": "light"
     },
     "output_type": "display_data"
    }
   ],
   "source": [
    "plot = predicted_df.plot.scatter(\n",
    "    x = 'actual', y = 'predicted',\n",
    "    legend=False\n",
    "    #color='dr_light_blue',\n",
    ")\n",
    "plot.set_facecolor('#0E162A')\n"
   ]
  },
  {
   "cell_type": "markdown",
   "metadata": {},
   "source": [
    "<h2> Refrences: "
   ]
  },
  {
   "cell_type": "markdown",
   "metadata": {},
   "source": [
    "1. https://datarobot-public-api-client.readthedocs-hosted.com/en/v2.21.5/examples/advanced_model_insights_regression/Advanced_Model_Insights_Regression.html\n",
    "\n",
    "2. https://medium.com/swlh/identify-outliers-with-pandas-statsmodels-and-seaborn-2766103bf67c\n",
    "3. https://scikit-learn.org/stable/modules/impute.html"
   ]
  }
 ],
 "metadata": {
  "kernelspec": {
   "display_name": "Python 3",
   "language": "python",
   "name": "python3"
  },
  "language_info": {
   "codemirror_mode": {
    "name": "ipython",
    "version": 3
   },
   "file_extension": ".py",
   "mimetype": "text/x-python",
   "name": "python",
   "nbconvert_exporter": "python",
   "pygments_lexer": "ipython3",
   "version": "3.8.2"
  }
 },
 "nbformat": 4,
 "nbformat_minor": 4
}
